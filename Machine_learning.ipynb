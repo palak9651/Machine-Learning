{
  "nbformat": 4,
  "nbformat_minor": 0,
  "metadata": {
    "colab": {
      "provenance": []
    },
    "kernelspec": {
      "name": "python3",
      "display_name": "Python 3"
    },
    "language_info": {
      "name": "python"
    }
  },
  "cells": [
    {
      "cell_type": "code",
      "execution_count": null,
      "metadata": {
        "id": "RdeYSonGEVn6"
      },
      "outputs": [],
      "source": []
    },
    {
      "cell_type": "markdown",
      "source": [
        "1. What is a parameter?\n",
        "Parameters are internal variables within a model that are learned from data during the training process.\n",
        "\n",
        "2. What is correlation?What does negative correlation mean?\n",
        "Correlation describes the relationship between two variables. The negative correlation means as one variable increase the other decreases and vice versa.\n",
        "\n",
        "3. Define Machine Learning. What are the main components in Machine Learning?\n",
        "Machine learning is about learning patterns from data.The core components of machine learning include data, algorithms, models, and evaluation.\n",
        "\n",
        "4. How does loss value help in determining whether the model is good or not?\n",
        "lower loss indicating better model accuracy.\n",
        "\n",
        "5. What are continuous and categorical variables?\n",
        "Continuous variables represent measurable quantities that can take on any value within a given range, while categorical variables represent groupings or categories.\n",
        "\n",
        "6. How do we handle categorical variables in Machine Learning? What are the common techniques?\n",
        "Before being used categorical variables should be converted into numerical value then technique will apply.Techniques are used to handle these, including one-hot encoding, label encoding, and target encoding.\n",
        "\n",
        "7. What do you mean by training and testing a dataset?\n",
        "In machine learning, a dataset is split into training and testing sets to evaluate a model's performance.\n",
        "\n",
        "8. What is sklearn.preprocessing?\n",
        "sklearn.preprocessing is a module within the scikit-learn (sklearn) library in Python that provides a wide range of utility functions and transformer classes for data preprocessing.\n",
        "\n",
        "9. What is a Test set?\n",
        "A subset of data used to evaluate the performance of a trained model after it has been trained and validated.\n",
        "\n",
        "10. How do we split data for model fitting (training and testing) in Python?\n",
        "How do you approach a Machine Learning problem?\n",
        "The train_test_split function from the sklearn.model_selection module is commonly used to split data for model fitting in python.\n",
        " A machine learning problem is generally approached by first defining the problem, then gathering and preparing the data, selecting an appropriate model, training the model, evaluating its performance, and finally making predictions based on the trained model.\n",
        "\n",
        " 11. Why do we have to perform EDA before fitting a model to the data?\n",
        " It helps us understand the data's characteristics, identify potential issues, and make informed decisions about model selection and preprocessing.\n",
        "\n",
        " 12. What is correlation?\n",
        " Correlation describes the relationship between two variables.\n",
        "\n",
        " 13. What does negative correlation mean?\n",
        " correlation means as one variable increase the other decreases and vice versa.\n",
        "\n",
        "14. How can you find correlation between variables in Python?\n",
        "The cov() NumPy function can be used to calculate a covariance matrix between two or more variables.\n",
        "\n",
        "15. What is causation? Explain difference between correlation and causation with an example?\n",
        "Causation means one event directly leads to another, while correlation means two events are related but one doesn't necessarily cause the other.\n",
        "smoking causes an increase in the risk of developing lung cancer, or it can correlate with another while smoking is correlated with alcoholism, but it does not cause alcoholism.\n",
        "\n",
        "16. What is an Optimizer? What are different types of optimizers? Explain each with an example?\n",
        "Optimizers are algorithms or methods used to minimize an error function or to maximize the efficiency of production.\n",
        "Optimizers\n",
        "\n",
        "17. What is sklearn.linear_model ?\n",
        "sklearn.linear_model is a module within the scikit-learn (sklearn) library in Python, which provides a collection of algorithms for building linear models in machine learning\n",
        "\n",
        "18. What does model.fit() do? What arguments must be given?\n",
        "Train a model for a fixed number of iterations over the entire dataset.\n",
        "\n",
        "19. What does model.predict() do? What arguments must be given?\n",
        "model. predict() is used to generate predictions from the trained model based on new input data.When using model. predict, we may get an answer close to, but not exactly what you expect.\n",
        "\n",
        "20. What are continuous and categorical variables?\n",
        "Continuous variables represent measurable quantities that can take on any value within a given range, while categorical variables represent groupings or categories.\n",
        "\n",
        "21. What is feature scaling? How does it help in Machine Learning?\n",
        "Feature scaling is a data preprocessing technique that transforms the numerical features of a dataset to a similar scale. It improves the machine learning model's accuracy.\n",
        "\n",
        "22. How do we perform scaling in Python?\n",
        "Scaling data in Python perform by using the sklearn.preprocessing module.\n",
        "\n",
        "23. What is sklearn.preprocessing?\n",
        "sklearn.preprocessing is a module within the scikit-learn (sklearn) library in Python that provides a wide range of utility functions and transformer classes for data preprocessing.\n",
        "\n",
        "24. How do we split data for model fitting (training and testing) in Python?\n",
        "Use train_test_split() to get training and test sets.\n",
        "\n",
        "25. Explain data encoding?\n",
        "The process of converting data into a specific format for storage, transmission, or processing.\n",
        "\n"
      ],
      "metadata": {
        "id": "eoSChDLREdfX"
      }
    }
  ]
}